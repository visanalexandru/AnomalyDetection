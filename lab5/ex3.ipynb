{
 "cells": [
  {
   "cell_type": "code",
   "execution_count": 1,
   "metadata": {},
   "outputs": [
    {
     "name": "stderr",
     "output_type": "stream",
     "text": [
      "2024-12-11 20:49:31.219612: I tensorflow/core/util/port.cc:110] oneDNN custom operations are on. You may see slightly different numerical results due to floating-point round-off errors from different computation orders. To turn them off, set the environment variable `TF_ENABLE_ONEDNN_OPTS=0`.\n",
      "2024-12-11 20:49:31.221329: I tensorflow/tsl/cuda/cudart_stub.cc:28] Could not find cuda drivers on your machine, GPU will not be used.\n",
      "2024-12-11 20:49:31.262242: I tensorflow/tsl/cuda/cudart_stub.cc:28] Could not find cuda drivers on your machine, GPU will not be used.\n",
      "2024-12-11 20:49:31.263967: I tensorflow/core/platform/cpu_feature_guard.cc:182] This TensorFlow binary is optimized to use available CPU instructions in performance-critical operations.\n",
      "To enable the following instructions: AVX2 AVX512F AVX512_VNNI FMA, in other operations, rebuild TensorFlow with the appropriate compiler flags.\n",
      "2024-12-11 20:49:32.049144: W tensorflow/compiler/tf2tensorrt/utils/py_utils.cc:38] TF-TRT Warning: Could not find TensorRT\n"
     ]
    }
   ],
   "source": [
    "import keras.layers\n",
    "from scipy.io import loadmat\n",
    "from sklearn.model_selection import train_test_split\n",
    "from sklearn.preprocessing import MinMaxScaler\n",
    "import keras\n",
    "import numpy as np\n",
    "import matplotlib.pyplot as plt\n",
    "from sklearn.metrics import mean_squared_error, balanced_accuracy_score"
   ]
  },
  {
   "cell_type": "code",
   "execution_count": 2,
   "metadata": {},
   "outputs": [],
   "source": [
    "# Loading the matlab file\n",
    "data = loadmat(\"shuttle.mat\")\n",
    "X, y = data[\"X\"], data[\"y\"]"
   ]
  },
  {
   "cell_type": "code",
   "execution_count": 3,
   "metadata": {},
   "outputs": [
    {
     "name": "stdout",
     "output_type": "stream",
     "text": [
      "Contamination rate:  0.07169626853511488\n"
     ]
    }
   ],
   "source": [
    "# Train test split\n",
    "X_train, X_test, y_train, y_test = train_test_split(X, y, test_size=0.5)\n",
    "features_dim = X_train.shape[1]\n",
    "contamination_rate = np.mean(y_train)\n",
    "print(\"Contamination rate: \", contamination_rate)"
   ]
  },
  {
   "cell_type": "code",
   "execution_count": 4,
   "metadata": {},
   "outputs": [],
   "source": [
    "# Min-Max normalization \n",
    "scaler = MinMaxScaler()\n",
    "scaler.fit(X_train)\n",
    "\n",
    "X_train = scaler.transform(X_train)\n",
    "X_test = scaler.transform(X_test)"
   ]
  },
  {
   "cell_type": "code",
   "execution_count": 5,
   "metadata": {},
   "outputs": [],
   "source": [
    "class Autoencoder(keras.Model):\n",
    "    def __init__(self):\n",
    "        super().__init__()\n",
    "\n",
    "        self.encoder = keras.Sequential()\n",
    "        self.encoder.add(keras.layers.Dense(8, \"relu\", input_dim=9))\n",
    "        self.encoder.add(keras.layers.Dense(5, \"relu\", input_dim=8))\n",
    "        self.encoder.add(keras.layers.Dense(3, \"relu\", input_dim=5))\n",
    "\n",
    "        self.decoder = keras.Sequential()\n",
    "        self.decoder.add(keras.layers.Dense(5, \"relu\", input_dim=3))\n",
    "        self.decoder.add(keras.layers.Dense(8, \"relu\", input_dim=5))\n",
    "        self.decoder.add(keras.layers.Dense(9, \"sigmoid\", input_dim=8))\n",
    "    \n",
    "    def call(self, inputs):\n",
    "        latent = self.encoder(inputs)\n",
    "        reconstructed = self.decoder(latent)\n",
    "        return reconstructed"
   ]
  },
  {
   "cell_type": "code",
   "execution_count": 6,
   "metadata": {},
   "outputs": [
    {
     "name": "stdout",
     "output_type": "stream",
     "text": [
      "[[0.17171717 0.47675018 0.46875    0.50701506 0.36858974 0.4576556\n",
      "  0.5620915  0.63081862 0.5755627 ]]\n",
      "tf.Tensor(\n",
      "[[0.5076639  0.5363468  0.50860244 0.49176306 0.49373177 0.5029033\n",
      "  0.49087462 0.48637137 0.4921286 ]], shape=(1, 9), dtype=float32)\n"
     ]
    }
   ],
   "source": [
    "autoencoder = Autoencoder()\n",
    "sample = np.expand_dims(X_train[3], axis=0)\n",
    "print(sample)\n",
    "print(autoencoder(sample))"
   ]
  },
  {
   "cell_type": "code",
   "execution_count": 7,
   "metadata": {},
   "outputs": [
    {
     "name": "stdout",
     "output_type": "stream",
     "text": [
      "Epoch 1/50\n",
      "24/24 [==============================] - 1s 9ms/step - loss: 0.0196 - val_loss: 0.0185\n",
      "Epoch 2/50\n",
      "24/24 [==============================] - 0s 3ms/step - loss: 0.0177 - val_loss: 0.0169\n",
      "Epoch 3/50\n",
      "24/24 [==============================] - 0s 3ms/step - loss: 0.0159 - val_loss: 0.0149\n",
      "Epoch 4/50\n",
      "24/24 [==============================] - 0s 3ms/step - loss: 0.0135 - val_loss: 0.0121\n",
      "Epoch 5/50\n",
      "24/24 [==============================] - 0s 3ms/step - loss: 0.0108 - val_loss: 0.0095\n",
      "Epoch 6/50\n",
      "24/24 [==============================] - 0s 3ms/step - loss: 0.0085 - val_loss: 0.0074\n",
      "Epoch 7/50\n",
      "24/24 [==============================] - 0s 3ms/step - loss: 0.0066 - val_loss: 0.0058\n",
      "Epoch 8/50\n",
      "24/24 [==============================] - 0s 3ms/step - loss: 0.0053 - val_loss: 0.0047\n",
      "Epoch 9/50\n",
      "24/24 [==============================] - 0s 3ms/step - loss: 0.0044 - val_loss: 0.0040\n",
      "Epoch 10/50\n",
      "24/24 [==============================] - 0s 4ms/step - loss: 0.0039 - val_loss: 0.0036\n",
      "Epoch 11/50\n",
      "24/24 [==============================] - 0s 4ms/step - loss: 0.0035 - val_loss: 0.0034\n",
      "Epoch 12/50\n",
      "24/24 [==============================] - 0s 4ms/step - loss: 0.0033 - val_loss: 0.0032\n",
      "Epoch 13/50\n",
      "24/24 [==============================] - 0s 3ms/step - loss: 0.0032 - val_loss: 0.0031\n",
      "Epoch 14/50\n",
      "24/24 [==============================] - 0s 3ms/step - loss: 0.0030 - val_loss: 0.0029\n",
      "Epoch 15/50\n",
      "24/24 [==============================] - 0s 3ms/step - loss: 0.0029 - val_loss: 0.0028\n",
      "Epoch 16/50\n",
      "24/24 [==============================] - 0s 3ms/step - loss: 0.0028 - val_loss: 0.0027\n",
      "Epoch 17/50\n",
      "24/24 [==============================] - 0s 3ms/step - loss: 0.0027 - val_loss: 0.0026\n",
      "Epoch 18/50\n",
      "24/24 [==============================] - 0s 3ms/step - loss: 0.0025 - val_loss: 0.0024\n",
      "Epoch 19/50\n",
      "24/24 [==============================] - 0s 3ms/step - loss: 0.0024 - val_loss: 0.0024\n",
      "Epoch 20/50\n",
      "24/24 [==============================] - 0s 3ms/step - loss: 0.0024 - val_loss: 0.0023\n",
      "Epoch 21/50\n",
      "24/24 [==============================] - 0s 3ms/step - loss: 0.0023 - val_loss: 0.0023\n",
      "Epoch 22/50\n",
      "24/24 [==============================] - 0s 3ms/step - loss: 0.0023 - val_loss: 0.0022\n",
      "Epoch 23/50\n",
      "24/24 [==============================] - 0s 3ms/step - loss: 0.0022 - val_loss: 0.0021\n",
      "Epoch 24/50\n",
      "24/24 [==============================] - 0s 3ms/step - loss: 0.0021 - val_loss: 0.0021\n",
      "Epoch 25/50\n",
      "24/24 [==============================] - 0s 5ms/step - loss: 0.0021 - val_loss: 0.0020\n",
      "Epoch 26/50\n",
      "24/24 [==============================] - 0s 3ms/step - loss: 0.0020 - val_loss: 0.0020\n",
      "Epoch 27/50\n",
      "24/24 [==============================] - 0s 3ms/step - loss: 0.0020 - val_loss: 0.0019\n",
      "Epoch 28/50\n",
      "24/24 [==============================] - 0s 3ms/step - loss: 0.0019 - val_loss: 0.0019\n",
      "Epoch 29/50\n",
      "24/24 [==============================] - 0s 3ms/step - loss: 0.0019 - val_loss: 0.0018\n",
      "Epoch 30/50\n",
      "24/24 [==============================] - 0s 3ms/step - loss: 0.0019 - val_loss: 0.0018\n",
      "Epoch 31/50\n",
      "24/24 [==============================] - 0s 3ms/step - loss: 0.0018 - val_loss: 0.0018\n",
      "Epoch 32/50\n",
      "24/24 [==============================] - 0s 3ms/step - loss: 0.0018 - val_loss: 0.0018\n",
      "Epoch 33/50\n",
      "24/24 [==============================] - 0s 3ms/step - loss: 0.0018 - val_loss: 0.0017\n",
      "Epoch 34/50\n",
      "24/24 [==============================] - 0s 3ms/step - loss: 0.0017 - val_loss: 0.0017\n",
      "Epoch 35/50\n",
      "24/24 [==============================] - 0s 3ms/step - loss: 0.0017 - val_loss: 0.0017\n",
      "Epoch 36/50\n",
      "24/24 [==============================] - 0s 3ms/step - loss: 0.0017 - val_loss: 0.0016\n",
      "Epoch 37/50\n",
      "24/24 [==============================] - 0s 3ms/step - loss: 0.0017 - val_loss: 0.0016\n",
      "Epoch 38/50\n",
      "24/24 [==============================] - 0s 3ms/step - loss: 0.0016 - val_loss: 0.0016\n",
      "Epoch 39/50\n",
      "24/24 [==============================] - 0s 3ms/step - loss: 0.0016 - val_loss: 0.0016\n",
      "Epoch 40/50\n",
      "24/24 [==============================] - 0s 3ms/step - loss: 0.0016 - val_loss: 0.0016\n",
      "Epoch 41/50\n",
      "24/24 [==============================] - 0s 3ms/step - loss: 0.0016 - val_loss: 0.0015\n",
      "Epoch 42/50\n",
      "24/24 [==============================] - 0s 4ms/step - loss: 0.0016 - val_loss: 0.0015\n",
      "Epoch 43/50\n",
      "24/24 [==============================] - 0s 3ms/step - loss: 0.0015 - val_loss: 0.0015\n",
      "Epoch 44/50\n",
      "24/24 [==============================] - 0s 3ms/step - loss: 0.0015 - val_loss: 0.0015\n",
      "Epoch 45/50\n",
      "24/24 [==============================] - 0s 3ms/step - loss: 0.0015 - val_loss: 0.0015\n",
      "Epoch 46/50\n",
      "24/24 [==============================] - 0s 3ms/step - loss: 0.0015 - val_loss: 0.0015\n",
      "Epoch 47/50\n",
      "24/24 [==============================] - 0s 3ms/step - loss: 0.0015 - val_loss: 0.0014\n",
      "Epoch 48/50\n",
      "24/24 [==============================] - 0s 3ms/step - loss: 0.0015 - val_loss: 0.0014\n",
      "Epoch 49/50\n",
      "24/24 [==============================] - 0s 3ms/step - loss: 0.0015 - val_loss: 0.0014\n",
      "Epoch 50/50\n",
      "24/24 [==============================] - 0s 3ms/step - loss: 0.0014 - val_loss: 0.0014\n"
     ]
    }
   ],
   "source": [
    "opt = keras.optimizers.Adam(learning_rate=0.001)\n",
    "autoencoder.compile(loss=keras.losses.MeanSquaredError(), optimizer=opt)\n",
    "history = autoencoder.fit(x=X_train, y=X_train, epochs=50, batch_size=1024, validation_data=(X_test, X_test))"
   ]
  },
  {
   "cell_type": "code",
   "execution_count": 8,
   "metadata": {},
   "outputs": [
    {
     "data": {
      "image/png": "[encoded data removed]",
      "text/plain": [
       "<Figure size 640x480 with 1 Axes>"
      ]
     },
     "metadata": {},
     "output_type": "display_data"
    }
   ],
   "source": [
    "plt.title(\"Training loss\")\n",
    "plt.plot(history.history[\"loss\"], label=\"loss\")\n",
    "plt.plot(history.history[\"val_loss\"], label=\"val_loss\")\n",
    "plt.legend()\n",
    "plt.show()\n"
   ]
  },
  {
   "cell_type": "code",
   "execution_count": 9,
   "metadata": {},
   "outputs": [
    {
     "name": "stdout",
     "output_type": "stream",
     "text": [
      "0.006574539751778387\n",
      "Balanced accuracy train: 0.9354271885521885\n",
      "Balanced accuracy test: 0.9298281122077848\n"
     ]
    }
   ],
   "source": [
    "train_reconstructed = autoencoder(X_train) \n",
    "test_reconstructed = autoencoder(X_test) \n",
    "\n",
    "train_errors = np.mean((X_train - train_reconstructed) ** 2, axis=1)\n",
    "test_errors = np.mean((X_test - test_reconstructed) ** 2, axis=1)\n",
    "\n",
    "threshold = np.quantile(train_errors, 1-contamination_rate)\n",
    "print(threshold)\n",
    "\n",
    "anomalies_train = (train_errors > threshold).astype(int)\n",
    "anomalies_test = (test_errors > threshold).astype(int)\n",
    "\n",
    "print(f\"Balanced accuracy train: {balanced_accuracy_score(y_train, anomalies_train)}\")\n",
    "print(f\"Balanced accuracy test: {balanced_accuracy_score(y_test, anomalies_test)}\")"
   ]
  }
 ],
 "metadata": {
  "kernelspec": {
   "display_name": "Python 3",
   "language": "python",
   "name": "python3"
  },
  "language_info": {
   "codemirror_mode": {
    "name": "ipython",
    "version": 3
   },
   "file_extension": ".py",
   "mimetype": "text/x-python",
   "name": "python",
   "nbconvert_exporter": "python",
   "pygments_lexer": "ipython3",
   "version": "3.10.12"
  }
 },
 "nbformat": 4,
 "nbformat_minor": 2
}
